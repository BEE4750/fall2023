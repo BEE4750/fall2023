{
  "cells": [
    {
      "cell_type": "markdown",
      "metadata": {},
      "source": [
        "# BEE 4750 Homework 5: Mixed Integer and Stochastic Programming\n",
        "\n",
        "**Name**:\n",
        "\n",
        "**ID**:\n",
        "\n",
        "> **Due Date**\n",
        ">\n",
        "> Thursday, 12/05/24, 9:00pm\n",
        "\n",
        "## Overview"
      ],
      "id": "160cd4c5-99a8-4932-a883-bb0e01f6a420"
    },
    {
      "cell_type": "markdown",
      "metadata": {},
      "source": [
        "### Instructions\n",
        "\n",
        "-   In Problem 1, you will use mixed integer programming to solve a\n",
        "    waste load allocation problem."
      ],
      "id": "88b62acd-69c5-4ef7-bb06-3298e94d8dc7"
    },
    {
      "cell_type": "markdown",
      "metadata": {},
      "source": [
        "### Load Environment\n",
        "\n",
        "The following code loads the environment and makes sure all needed\n",
        "packages are installed. This should be at the start of most Julia\n",
        "scripts."
      ],
      "id": "86a991af-e980-4ab8-9e1e-2456b0919018"
    },
    {
      "cell_type": "code",
      "execution_count": 1,
      "metadata": {},
      "outputs": [],
      "source": [
        "import Pkg\n",
        "Pkg.activate(@__DIR__)\n",
        "Pkg.instantiate()"
      ],
      "id": "2"
    },
    {
      "cell_type": "code",
      "execution_count": 1,
      "metadata": {},
      "outputs": [],
      "source": [
        "using JuMP\n",
        "using HiGHS\n",
        "using DataFrames\n",
        "using GraphRecipes\n",
        "using Plots\n",
        "using Measures\n",
        "using MarkdownTables"
      ],
      "id": "4"
    },
    {
      "cell_type": "markdown",
      "metadata": {},
      "source": [
        "## Problems (Total: 30 Points)\n",
        "\n",
        "### Problem 1 (30 points)\n",
        "\n",
        "Three cities are developing a coordinated municipal solid waste (MSW)\n",
        "disposal plan. Three disposal alternatives are being considered: a\n",
        "landfill (LF), a materials recycling facility (MRF), and a\n",
        "waste-to-energy facility (WTE). The capacities of these facilities and\n",
        "the fees for operation and disposal are provided below.\n",
        "\n",
        "-   **LF**: Capacity 200 Mg, fixed cost \\$2000/day, tipping cost\n",
        "    \\$50/Mg;\n",
        "-   **MRF**: Capacity 350 Mg, fixed cost \\$1500/day, tipping cost\n",
        "    \\$7/Mg, recycling cost \\$40/Mg recycled;\n",
        "-   **WTE**: Capacity 210 Mg, fixed cost \\$2500/day, tipping cost\n",
        "    \\$60/Mg;\n",
        "\n",
        "The MRF recycling rate is 40%, and the ash fraction of non-recycled\n",
        "waste is 16% and of recycled waste is 14%. Transportation costs are\n",
        "\\$1.5/Mg-km, and the relative distances between the cities and\n",
        "facilities are provided in the table below.\n",
        "\n",
        "| **City/Facility** | **Landfill (km)** | **MRF (km)** | **WTE (km)** |\n",
        "|:-----------------:|:-----------------:|:------------:|:------------:|\n",
        "|         1         |         5         |      30      |      15      |\n",
        "|         2         |        15         |      25      |      10      |\n",
        "|         3         |        13         |      45      |      20      |\n",
        "|        LF         |        \\-         |      32      |      18      |\n",
        "|        MRF        |        32         |      \\-      |      15      |\n",
        "|        WTE        |        18         |      15      |      \\-      |\n",
        "\n",
        "The fixed costs associated with the disposal options are incurred only\n",
        "if the particular disposal option is implemented. The three cities\n",
        "produce 100, 90, and 120 Mg/day of solid waste, respectively, with the\n",
        "composition provided in the table below.\n",
        "\n",
        "**Reminder**: Use `round(x; digits=n)` to report values to the\n",
        "appropriate precision!\n",
        "\n",
        "**In this problem**:\n",
        "\n",
        "-   Formulate the waste load allocation problem and implement it in\n",
        "    `JuMP`.\n",
        "-   Draw a diagram showing the flows of waste between the cities and the\n",
        "    facilities. Which facilities (if any) will not be used? Does this\n",
        "    solution make sense?"
      ],
      "id": "860801d4-7bee-4585-899a-d724e27467a5"
    },
    {
      "cell_type": "markdown",
      "metadata": {},
      "source": [
        "## References\n",
        "\n",
        "List any external references consulted, including classmates."
      ],
      "id": "ab78a048-2b54-44a3-adf7-a31fc041cb1a"
    }
  ],
  "nbformat": 4,
  "nbformat_minor": 5,
  "metadata": {
    "kernel_info": {
      "name": "julia"
    },
    "kernelspec": {
      "name": "julia",
      "display_name": "Julia",
      "language": "julia"
    },
    "language_info": {
      "name": "julia",
      "codemirror_mode": "julia",
      "version": "1.11.4"
    }
  }
}