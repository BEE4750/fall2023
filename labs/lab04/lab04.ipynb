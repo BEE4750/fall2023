{
  "cells": [
    {
      "cell_type": "markdown",
      "metadata": {},
      "source": [
        "# BEE 4750 Lab 4: Simulation-Optimization\n",
        "\n",
        "**Name**:\n",
        "\n",
        "**ID**:\n",
        "\n",
        "> **Due Date**\n",
        ">\n",
        "> Friday, 11/17/23, 9:00pm\n",
        "\n",
        "## Setup\n",
        "\n",
        "The following code should go at the top of most Julia scripts; it will\n",
        "load the local package environment and install any needed packages. You\n",
        "will see this often and shouldn’t need to touch it."
      ],
      "id": "00fe4003-65a7-440b-b1fc-b8a7127c2f55"
    },
    {
      "cell_type": "code",
      "execution_count": 1,
      "metadata": {},
      "outputs": [],
      "source": [
        "import Pkg\n",
        "Pkg.activate(\".\")\n",
        "Pkg.instantiate()"
      ],
      "id": "2"
    },
    {
      "cell_type": "code",
      "execution_count": 1,
      "metadata": {},
      "outputs": [],
      "source": [
        "using Random # for random seeds\n",
        "using Distributions # statistical distribution interface\n",
        "using Roots # find zeros of functions\n",
        "using Metaheuristics # search algorithms\n",
        "using Plots # plotting"
      ],
      "id": "4"
    },
    {
      "cell_type": "markdown",
      "metadata": {},
      "source": [
        "## Overview\n",
        "\n",
        "In this lab, you will experiment with simulation-optimization with the\n",
        "shallow lake problem. The goal of this experimentation is to get an\n",
        "understanding of how to work with simulation-optimization methods and\n",
        "the impact of some choices involved in using these methods.\n",
        "\n",
        "Free free to delete some of the illustrative cells and code blocks in\n",
        "your notebook as you go through and solve the lab problems…this might\n",
        "help reduce some potential confusion while grading about what your\n",
        "answer is."
      ],
      "id": "80c10ea3-8b86-4905-b135-c0b5aabb677a"
    },
    {
      "cell_type": "markdown",
      "metadata": {},
      "source": [
        "## Introduction\n",
        "\n",
        "Due to ongoing economic activity, a town emits phosphorous into a\n",
        "shallow lake (with a concentration of $a_t$), which also receives\n",
        "non-point source runoff (concentration $y_t$) from the surrounding area.\n",
        "The concentration of the lake at time $t+1$ is given by\n",
        "$$X_{t+1} = X_t + a_t + y_t + \\frac{X_t^q}{1+X_t^q} - bX_t,$$\n",
        "\n",
        "where:\n",
        "\n",
        "| Parameter | Value                                                |\n",
        "|:---------:|:-----------------------------------------------------|\n",
        "|   $a_t$   | point-source phosphorous concentration from the town |\n",
        "|   $y_t$   | non-point-source phosphorous concentration           |\n",
        "|    $q$    | rate at which phosphorous is recycled from sediment  |\n",
        "|    $b$    | rate at which phosphorous leaves the lake            |\n",
        "\n",
        "and $X_0 = 0$, $y_t \\sim LogNormal(\\log(0.03), 0.25)$, $q=2.5$, and\n",
        "$b=0.4$.\n",
        "\n",
        "The goal of the optimization is to maximize the town’s average\n",
        "phosphorous concentration releases (as a proxy of economic activity):\n",
        "$\\max \\sum_{t=1}^T a_t / T$ over a 100-year period. We have decided\n",
        "(initially) that an acceptable solution is one which will result in the\n",
        "lake eutrophying no more than 10% of the time.\n",
        "\n",
        "The non-point source samples can be sampled using the following code\n",
        "block:"
      ],
      "id": "d702ed88-d95b-4e31-a5de-e6435baf90f7"
    },
    {
      "cell_type": "code",
      "execution_count": 1,
      "metadata": {},
      "outputs": [
        {
          "output_type": "display_data",
          "metadata": {},
          "data": {
            "text/plain": [
              "100×1000 Matrix{Float64}:\n",
              " 0.0304681  0.0285057  0.0355363  …  0.0224551  0.0316383  0.0369517\n",
              " 0.0321624  0.0278158  0.0217135     0.0382034  0.0232944  0.0267399\n",
              " 0.0258482  0.0234287  0.0283147     0.0202217  0.048585   0.0363454\n",
              " 0.030352   0.0337715  0.0266175     0.0309283  0.024296   0.047442\n",
              " 0.0393559  0.0340622  0.0448934     0.0293712  0.028231   0.0344968\n",
              " 0.0202278  0.0310688  0.0181462  …  0.0265555  0.0235964  0.0303528\n",
              " 0.031349   0.0322554  0.0424454     0.0317823  0.0295711  0.0227756\n",
              " 0.0372459  0.0364071  0.0384649     0.0345461  0.0332709  0.0479824\n",
              " 0.0149338  0.0370531  0.0268489     0.0220696  0.0485319  0.0183377\n",
              " 0.0186938  0.0279637  0.0409538     0.044512   0.0279454  0.0246053\n",
              " ⋮                                ⋱                        \n",
              " 0.0361638  0.0187471  0.028957      0.020726   0.0296569  0.0270623\n",
              " 0.0263427  0.0416441  0.0368316     0.0308642  0.0384248  0.0382549\n",
              " 0.0281714  0.0264096  0.0337333     0.0291933  0.024468   0.0279627\n",
              " 0.0406918  0.0260099  0.043256      0.033575   0.0272049  0.0289137\n",
              " 0.0385466  0.0400145  0.0236115  …  0.025868   0.0170059  0.0215322\n",
              " 0.0338512  0.0339457  0.0552938     0.0249511  0.0597814  0.0231636\n",
              " 0.0406508  0.0289635  0.0332456     0.0477649  0.0281822  0.0362461\n",
              " 0.0383625  0.0275352  0.0456234     0.0262813  0.0287315  0.0254019\n",
              " 0.0278233  0.023814   0.0295692     0.0245641  0.042677   0.029458"
            ]
          }
        }
      ],
      "source": [
        "Random.seed!(1)\n",
        "\n",
        "T = 100 # length of simualtion\n",
        "n_samples = 1_000 # replace with number of samples if you experiment\n",
        "\n",
        "P_distribution = LogNormal(log(0.03), 0.25)\n",
        "y = rand(P_distribution, (T, n_samples)) # sample a T x n_samples matrix"
      ],
      "id": "6"
    },
    {
      "cell_type": "markdown",
      "metadata": {},
      "source": [
        "We write the lake model as a function:"
      ],
      "id": "9fe1daa8-1d13-445a-bb02-2368772ec15f"
    },
    {
      "cell_type": "code",
      "execution_count": 1,
      "metadata": {},
      "outputs": [
        {
          "output_type": "display_data",
          "metadata": {},
          "data": {
            "text/plain": [
              "lake (generic function with 1 method)"
            ]
          }
        }
      ],
      "source": [
        "# lake function model\n",
        "# inputs:\n",
        "#   a: vector of point-source releases (to be optimized)\n",
        "#   y: randomly-sampled non-point sources\n",
        "#   q: lake phosphorous recycling rate\n",
        "#   b: phosphorous outflow rate\n",
        "# \n",
        "# returns:\n",
        "#   series of lake phosphorous concentrations\n",
        "function lake(a, y, q, b, T)\n",
        "    X = zeros(T+1, size(y, 2))\n",
        "    # calculate states\n",
        "    for t = 1:T\n",
        "        X[t+1, :] = X[t, :] .+ a[t] .+ y[t, :] .+ (X[t, :].^q./(1 .+ X[t, :].^q)) .- b.*X[t, :]\n",
        "    end\n",
        "    return X\n",
        "end"
      ],
      "id": "8"
    },
    {
      "cell_type": "markdown",
      "metadata": {},
      "source": [
        "However, this isn’t sufficient on its own! `Metaheuristics.jl` (and most\n",
        "simulation-optimization packages) require the use of a *wrapper*\n",
        "function, which accepts as inputs both parameters to be optimized (in\n",
        "this case, point-source releases `a`) and parameters which will be fixed\n",
        "(the others; see below for how to incorporate these into the syntax) and\n",
        "returns the required information for the optimization procedure.\n",
        "\n",
        "`Metaheuristics.jl` wants its optimizing wrapper function to return (in\n",
        "order):\n",
        "\n",
        "-   the objective(s) (in this case, the mean of `a`, $\\sum_t a_t / T$),\n",
        "-   a vector of the degrees to which the solution fails to achieve any\n",
        "    inequality constraints (positive values indicate a larger failure,\n",
        "    values below zero are considered acceptable)\n",
        "-   a vector of the degrees to which the solution fails to achieve any\n",
        "    equality constraints (only values of zero indicate success), which\n",
        "    in this case is not relevant, so we just return `[0.0]`."
      ],
      "id": "3af8462d-916f-4f24-90a1-d0ede0d9ddae"
    },
    {
      "cell_type": "code",
      "execution_count": 1,
      "metadata": {},
      "outputs": [
        {
          "output_type": "display_data",
          "metadata": {},
          "data": {
            "text/plain": [
              "lake_opt (generic function with 1 method)"
            ]
          }
        }
      ],
      "source": [
        "# function producing optimization outputs\n",
        "# inputs:\n",
        "#   a: vector of point-source releases (to be optimized)\n",
        "#   y: randomly-sampled non-point sources\n",
        "#   q: lake phosphorous recycling rate\n",
        "#   b: phosphorous outflow rate\n",
        "# \n",
        "# returns:\n",
        "#   - objective: mean value of point-source releases\n",
        "#   - inequality constraint failure vector\n",
        "#   - equality constraint failure vector (in this case, always [0.0])\n",
        "function lake_opt(a, y, q, b, T, Xcrit)\n",
        "    X = lake(a, y, q, b, T)\n",
        "    # calculate exceedance of critical value\n",
        "    Pexceed = sum(X[T+1, :] .> Xcrit) / size(X, 2)\n",
        "    failconst = [Pexceed - 0.1] # replace 0.1 if you experiment with the failure probability\n",
        "    return mean(a), failconst, [0.0]\n",
        "end"
      ],
      "id": "10"
    },
    {
      "cell_type": "markdown",
      "metadata": {},
      "source": [
        "To optimize using DE (differential evolution), use the following syntax:\n",
        "\n",
        "``` julia\n",
        "results = optimize(f, bounds, DE(options=Options(f_calls_limit=max_evals)))\n",
        "```\n",
        "\n",
        "where `bounds` is a `Matrix` of lower bounds (first row) and upper\n",
        "bounds (last row), and `max_evals` is an integer for the maximum number\n",
        "of evaluations.\n",
        "\n",
        "-   For example, to set bounds for all decision variables between 0 and\n",
        "    0.5, you can use\n",
        "\n",
        "``` julia\n",
        "bounds = [zeros(T) 0.5ones(T)]'\n",
        "```\n",
        "\n",
        "-   Increasing `max_evals` can help you find a better solution, but at a\n",
        "    larger computational expense.\n",
        "-   You can use an anonymous function to fix values for non-optimized\n",
        "    parameters, *e.g.*\n",
        "\n",
        "``` julia\n",
        "y = ...\n",
        "q = ...\n",
        "b = ...\n",
        "T = ...\n",
        "Xcrit = ...\n",
        "results = optimize(a -> lake_opt(a, y, q, b, t, Xcrit), bounds, DE(options=Options(f_calls_limit=max_evals)))\n",
        "```\n",
        "\n",
        "Then to get the approximated minimum value:\n",
        "\n",
        "``` julia\n",
        "fx = minimum(result)\n",
        "```\n",
        "\n",
        "and the approximated minimizing value:\n",
        "\n",
        "``` julia\n",
        "x = minimizer(result)\n",
        "```\n",
        "\n",
        "The last piece is to get the critical value (to identify failures),\n",
        "which we can do using `Roots.jl`, which finds zeros of functions:"
      ],
      "id": "193475cc-a316-48c1-921a-a8e21a57be31"
    },
    {
      "cell_type": "code",
      "execution_count": 1,
      "metadata": {},
      "outputs": [],
      "source": [
        "# define a function whose zeros are the critical values\n",
        "P_flux(x) = (x^q/(1+x^q)) - b*x\n",
        "# use Roots.find_zero() to find the non-eutrophication and non-zero critical value; we know from visual inspection in class that this is bounded between 0.1 and 1.5.\n",
        "Xcrit = find_zero(P_flux, (0.1, 1.5))"
      ],
      "id": "12"
    },
    {
      "cell_type": "markdown",
      "metadata": {},
      "source": [
        "## Problems\n",
        "\n",
        "### Problem 1 (2 points)\n",
        "\n",
        "Using the default setup above, find the approximate optimum value. What\n",
        "is the value of the objective function, and how many failures (you can\n",
        "evaluate the `lake` function using your solution to find how many\n",
        "end-values are above the critical value).\n",
        "\n",
        "### Problem 2 (5 points)"
      ],
      "id": "24415385-128e-4dac-b5aa-f042d941f994"
    },
    {
      "cell_type": "markdown",
      "metadata": {},
      "source": [
        "Feel free to experiment with some of the degrees of freedom in finding\n",
        "the optimum value. For example:\n",
        "\n",
        "-   What failure probability are you using to characterize acceptable\n",
        "    solutions?\n",
        "-   How many Monte Carlo samples are you using?\n",
        "-   What bounds are you searching over for the releases?\n",
        "-   How many function evaluations are you using for the search?\n",
        "-   What is the impact of different [`Metaheuristics.jl`\n",
        "    algorithms](https://docs.juliahub.com/Metaheuristics/aJ70z/3.2.12/algorithms/)?\n",
        "\n",
        "Note that you might want to modify some of these together: for example,\n",
        "lower acceptable failure probabilities often require more function\n",
        "evaluations to find acceptable values, and more Monte Carlo samples\n",
        "increase computational expense, so fewer function evaluations may be\n",
        "completed in the same time.\n",
        "\n",
        "Provide a description of what you’ve modified and why. What was the new\n",
        "solution that you found? Does it satisfy the constraints?"
      ],
      "id": "1b258b15-255e-4725-8475-52d8dd4be68e"
    },
    {
      "cell_type": "markdown",
      "metadata": {},
      "source": [
        "### Problem 3 (3 points)\n",
        "\n",
        "What did you learn about the use of these methods? Compare with your\n",
        "experience with linear programming from earlier in the semester.\n",
        "\n",
        "## References\n",
        "\n",
        "Put any consulted sources here, including classmates you worked with/who\n",
        "helped you."
      ],
      "id": "23b59bd0-da7e-4790-b97d-a3b84a5b953b"
    }
  ],
  "nbformat": 4,
  "nbformat_minor": 5,
  "metadata": {
    "kernel_info": {
      "name": "julia"
    },
    "kernelspec": {
      "name": "julia",
      "display_name": "Julia",
      "language": "julia"
    },
    "language_info": {
      "name": "julia",
      "codemirror_mode": "julia",
      "version": "1.11.4"
    }
  }
}